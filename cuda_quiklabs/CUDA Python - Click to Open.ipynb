{
 "metadata": {
  "name": "CUDA Python - Click to Open"
 },
 "nbformat": 3,
 "nbformat_minor": 0,
 "worksheets": [
  {
   "cells": [
    {
     "cell_type": "markdown",
     "metadata": {},
     "source": "# Accelerating Python code with CUDA on GPUs\n\nIn this self-paced, hands-on lab, we will use CUDA Python to accelerate code on NVIDIA GPUs.\n\nLab created by Mark Ebersole (Follow [@CUDAHamster](https://twitter.com/@cudahamster) on Twitter)"
    },
    {
     "cell_type": "markdown",
     "metadata": {},
     "source": "The following timer counts down to a five minute warning before the lab instance shuts down.  You should get a pop up at the five minute warning reminding you to save your work!"
    },
    {
     "cell_type": "markdown",
     "metadata": {},
     "source": "<script src=\"files/countdown_v5.0/countdown.js\"></script>\n<div id=\"clock\" align=\"center\"></div>\n<script>\nmyDate = new Date();\ncurTime = Date.UTC(myDate.getUTCFullYear(), \n                   myDate.getUTCMonth(), \n                   myDate.getUTCDate(), \n                   myDate.getUTCHours(), \n                   myDate.getUTCMinutes(),\n                   myDate.getUTCSeconds(),\n                   myDate.getUTCMilliseconds());\n\nfunction countdownComplete(){\n  \talert(\"You only have five minutes left in the lab! Time to save your work - see the Post Lab section near the bottom.\");\n}\nvar myCD = new Countdown({\n                         time  \t: (1492807600209+50*60000-curTime)/1000,\n                         target\t \t: \"clock\",\n                         onComplete\t: countdownComplete,\n                         rangeHi  : \"minute\",\n                         hideLine\t: true,\n                         hideLabels\t: false,\n                         height\t \t: 60,\n                         width     : 150,\n                         style     : \"boring\",\n                    });\n </script>"
    },
    {
     "cell_type": "markdown",
     "metadata": {},
     "source": "---\nBefore we begin, let's verify [WebSockets](http://en.wikipedia.org/wiki/WebSocket) are working on your system.  To do this, execute the cell block below by giving it focus (clicking on it with your mouse), and hitting Ctrl-Enter, or pressing the play button in the toolbar above.  If all goes well, you should see get some output returned below the grey cell.  If not, please consult the [Self-paced Lab Troubleshooting FAQ](https://developer.nvidia.com/self-paced-labs-faq#Troubleshooting) to debug the issue."
    },
    {
     "cell_type": "code",
     "collapsed": false,
     "input": "print \"The answer should be three: \" + str(1+2)",
     "language": "python",
     "metadata": {},
     "outputs": [
      {
       "output_type": "stream",
       "stream": "stdout",
       "text": "The answer should be three: 3\n"
      }
     ],
     "prompt_number": 1
    },
    {
     "cell_type": "markdown",
     "metadata": {},
     "source": "Let's execute the cell below to display information about the GPUs running on the server."
    },
    {
     "cell_type": "code",
     "collapsed": false,
     "input": "!nvidia-smi",
     "language": "python",
     "metadata": {},
     "outputs": [
      {
       "output_type": "stream",
       "stream": "stdout",
       "text": "Fri Apr 21 20:48:35 2017       \r\n+------------------------------------------------------+                       \r\n| NVIDIA-SMI 340.29     Driver Version: 340.29         |                       \r\n|-------------------------------+----------------------+----------------------+\r\n| GPU  Name        Persistence-M| Bus-Id        Disp.A | Volatile Uncorr. ECC |\r\n| Fan  Temp  Perf  Pwr:Usage/Cap|         Memory-Usage | GPU-Util  Compute M. |\r\n|===============================+======================+======================|\r\n|   0  GRID K520           On   | 0000:00:03.0     Off |                  N/A |\r\n| N/A   26C    P8    17W / 125W |     10MiB /  4095MiB |      0%      Default |\r\n+-------------------------------+----------------------+----------------------+\r\n                                                                               \r\n+-----------------------------------------------------------------------------+\r\n| Compute processes:                                               GPU Memory |\r\n|  GPU       PID  Process name                                     Usage      |\r\n|=============================================================================|\r\n|  No running compute processes found                                         |\r\n+-----------------------------------------------------------------------------+\r\n"
      }
     ],
     "prompt_number": 2
    },
    {
     "cell_type": "markdown",
     "metadata": {},
     "source": "---\n<p class=\"hint_trigger\">If you have never before taken an IPython Notebook based self-paced lab from NVIDIA, click this green box.\n      <div class=\"toggle_container\"><div class=\"input_area box-flex1\"><div class=\\\"highlight\\\">The following video will explain the infrastructure we are using for this self-paced lab, as well as give some tips on it's usage.  If you've never taken a lab on this system before, it's highly encourage you watch this short video first.\n<div align=\"center\"><iframe width=\"640\" height=\"390\" src=\"http://www.youtube.com/embed/ZMrDaLSFqpY\" frameborder=\"0\" allowfullscreen></iframe></div>\n</div></div></div></p>"
    },
    {
     "cell_type": "markdown",
     "metadata": {},
     "source": "## Introduction to CUDA Python\n\nIn this lab, we will learn how to write GPU code using Python, one of the fastest growing CUDA enabled languages.  By learning just a few new API calls, we'll be able to unlock the massively parallel capability of an NVIDIA GPU.\n\nWatch the following short video introduction to Grids, Blocks, and Threads:<br><br>\n\n<div align=\"center\"><iframe width=\"640\" height=\"390\" src=\"http://www.youtube.com/embed/KM-zbhyz9f4\" frameborder=\"0\" allowfullscreen></iframe></div>\n\nThis lab consists of three tasks that will require you to modify some code and execute it.  For each task, a solution is provided so you can check your work or take a peek if you get lost.\n\nIf you are still confused now, or at any point in this lab, you can consult the <a href=\"#FAQ\">FAQ</a> located at the bottom of this page."
    },
    {
     "cell_type": "markdown",
     "metadata": {},
     "source": "## Hello Parallelism\n\nFor the first task, we are going to be using the following concepts:\n\n* <code style=\"color:green\">@cuda.autojit</code> - this Python function decorator (goes on the line above a function definition) is used to tell the NumbaPro Python compiler that the function is to be compiled for the GPU, and is callable from both the host or the GPU itself.\n* <code style=\"color:green\">cuda.blockIdx.x</code> - this is a read-only variable that is defined for you.  It is used within a GPU kernel to determine the ID of the block which is currently executing code.  Since there will be many blocks running in parallel, we need this ID to help determine which chunk of data that particular block will work on.\n* <code style=\"color:green\">cuda.threadIdx.x</code> - this is a read-only variable that is defined for you.  It is used within a GPU kernel to determine the ID of the thread which is currently executing code in the active block.\n* <code style=\"color:green\">cuda.blockDim.x</code> - this is a read-only variable that is defined for you.  It simply returns a value indicating the number of threads there are per block.  Remember that all the blocks scheduled to execute on the GPU are identical, except for the <code style=\"color:green\">cuda.blockIdx.x</code> value.\n* <code style=\"color:green\">myKernel [ number_of_blocks, threads_per_block ] (...)</code> -  this is the syntax used to launch a kernel on the GPU.  Inside the square brackets we set two values.  The first is the total number of blocks we want to run on the GPU, and the second is the number of threads there are per block.  It's possible, and in fact recommended, for one to schedule more blocks than the GPU can actively run in parallel.  In this case, the system will just continue executing blocks until they have all run.\n\nLet's explore the above concepts by doing a simple example.\n\nThere is nothing you need to do to the code to get this example to work.  Before you do anything else, select the next cell down and hit Ctrl-Enter (or the play button in the toolbar) to run the code.  If everything is working, you should see the following: <code>[ 0.]</code>"
    },
    {
     "cell_type": "code",
     "collapsed": false,
     "input": "from numbapro import cuda # Import the CUDA Runtime API\nimport numpy as np # Import NumPy for creating data arrays\n\n@cuda.autojit\ndef hello(ary):\n    ary[cuda.threadIdx.x] = cuda.threadIdx.x + cuda.blockIdx.x\n    \ndef main():\n    threads_per_block = 1\n    number_of_blocks = 1\n    ary = np.empty(threads_per_block) # Create an array of threads_per_block elements\n    hello[number_of_blocks,threads_per_block] (ary)\n    \n    print ary # Print out the values filled in by the GPU\n    \nmain()",
     "language": "python",
     "metadata": {},
     "outputs": [
      {
       "output_type": "stream",
       "stream": "stdout",
       "text": "[ 0.]\n"
      },
      {
       "output_type": "stream",
       "stream": "stderr",
       "text": "Vendor:  Continuum Analytics, Inc.\nPackage: mkl\nMessage: trial mode expires in 30 days\n"
      }
     ],
     "prompt_number": 3
    },
    {
     "cell_type": "markdown",
     "metadata": {},
     "source": "### Task #1\n\nYour first task in this lab is to play around with the number of blocks, and threads per block by modifying the values `threads_per_block` and `number_of_blocks`. To make these changes, simply click on the cell below this one and edit the code.\n\n* What do you expect to see if you do `number_of_blocks = 2` and `threads_per_block = 1`?\n* What do you expect to see if you do `number_of_blocks = 100` and `threads_per_block = 5`?\n* Can you make the values arbitrarily large?\n\nAfter making a change, simply execute the cell with Ctrl-Enter and see the result."
    },
    {
     "cell_type": "code",
     "collapsed": false,
     "input": "from numbapro import cuda # Import the CUDA Runtime API\nimport numpy as np # Import NumPy for creating data arrays\n\n@cuda.autojit\ndef hello(ary):\n    ary[cuda.threadIdx.x] = cuda.threadIdx.x + cuda.blockIdx.x\n    \ndef main():\n    threads_per_block = 1000\n    number_of_blocks = 1000\n    ary = np.empty(threads_per_block)\n    hello[number_of_blocks,threads_per_block] (ary)\n    \n    print ary # Print out the values filled in by the GPU\n    \nmain()",
     "language": "python",
     "metadata": {},
     "outputs": [
      {
       "output_type": "stream",
       "stream": "stdout",
       "text": "[  996.   997.   998.   999.  1000.  1001.  1002.  1003.  1004.  1005.\n  1006.  1007.  1008.  1009.  1010.  1011.  1012.  1013.  1014.  1015.\n  1016.  1017.  1018.  1019.  1020.  1021.  1022.  1023.  1024.  1025.\n  1026.  1027.  1030.  1031.  1032.  1033.  1034.  1035.  1036.  1037.\n  1038.  1039.  1040.  1041.  1042.  1043.  1044.  1045.  1046.  1047.\n  1048.  1049.  1050.  1051.  1052.  1053.  1054.  1055.  1056.  1057.\n  1058.  1059.  1060.  1061.  1062.  1063.  1064.  1065.  1066.  1067.\n  1068.  1069.  1070.  1071.  1072.  1073.  1074.  1075.  1076.  1077.\n  1078.  1079.  1080.  1081.  1082.  1083.  1084.  1085.  1086.  1087.\n  1088.  1089.  1090.  1091.  1092.  1093.  1092.  1093.  1094.  1095.\n  1096.  1097.  1098.  1099.  1100.  1101.  1102.  1103.  1104.  1105.\n  1106.  1107.  1108.  1109.  1110.  1111.  1112.  1113.  1114.  1115.\n  1116.  1117.  1118.  1119.  1120.  1121.  1122.  1123.  1126.  1127.\n  1128.  1129.  1130.  1131.  1132.  1133.  1134.  1135.  1136.  1137.\n  1138.  1139.  1140.  1141.  1142.  1143.  1144.  1145.  1146.  1147.\n  1148.  1149.  1150.  1151.  1152.  1153.  1154.  1155.  1156.  1157.\n  1157.  1158.  1159.  1160.  1161.  1162.  1163.  1164.  1165.  1166.\n  1167.  1168.  1169.  1170.  1171.  1172.  1173.  1174.  1175.  1176.\n  1177.  1178.  1179.  1180.  1181.  1182.  1183.  1184.  1185.  1186.\n  1187.  1188.  1190.  1191.  1192.  1193.  1194.  1195.  1196.  1197.\n  1198.  1199.  1200.  1201.  1202.  1203.  1204.  1205.  1206.  1207.\n  1208.  1209.  1210.  1211.  1212.  1213.  1214.  1215.  1216.  1217.\n  1218.  1219.  1220.  1221.  1222.  1223.  1224.  1225.  1226.  1227.\n  1228.  1229.  1230.  1231.  1232.  1233.  1234.  1235.  1236.  1237.\n  1238.  1239.  1240.  1241.  1242.  1243.  1244.  1245.  1246.  1247.\n  1248.  1249.  1250.  1251.  1252.  1253.  1254.  1255.  1256.  1257.\n  1258.  1259.  1260.  1261.  1262.  1263.  1264.  1265.  1266.  1267.\n  1268.  1269.  1270.  1271.  1272.  1273.  1274.  1275.  1276.  1277.\n  1278.  1279.  1280.  1281.  1282.  1283.  1284.  1285.  1286.  1287.\n  1288.  1289.  1290.  1291.  1292.  1293.  1294.  1295.  1296.  1297.\n  1298.  1299.  1300.  1301.  1302.  1303.  1304.  1305.  1306.  1307.\n  1308.  1309.  1310.  1311.  1312.  1313.  1314.  1315.  1316.  1317.\n  1318.  1319.  1320.  1321.  1322.  1323.  1324.  1325.  1326.  1327.\n  1328.  1329.  1330.  1331.  1332.  1333.  1334.  1335.  1336.  1337.\n  1338.  1339.  1340.  1341.  1342.  1343.  1344.  1345.  1346.  1347.\n  1348.  1349.  1348.  1349.  1350.  1351.  1352.  1353.  1354.  1355.\n  1356.  1357.  1358.  1359.  1360.  1361.  1362.  1363.  1364.  1365.\n  1366.  1367.  1368.  1369.  1370.  1371.  1372.  1373.  1374.  1375.\n  1376.  1377.  1378.  1379.  1382.  1383.  1384.  1385.  1386.  1387.\n  1388.  1389.  1390.  1391.  1392.  1393.  1394.  1395.  1396.  1397.\n  1398.  1399.  1400.  1401.  1402.  1403.  1404.  1405.  1406.  1407.\n  1408.  1409.  1410.  1411.  1412.  1413.  1414.  1415.  1416.  1417.\n  1418.  1419.  1420.  1421.  1422.  1423.  1424.  1425.  1426.  1427.\n  1428.  1429.  1430.  1431.  1432.  1433.  1434.  1435.  1436.  1437.\n  1438.  1439.  1440.  1441.  1442.  1443.  1444.  1445.  1443.  1444.\n  1445.  1446.  1447.  1448.  1449.  1450.  1451.  1452.  1453.  1454.\n  1455.  1456.  1457.  1458.  1459.  1460.  1461.  1462.  1463.  1464.\n  1465.  1466.  1467.  1468.  1469.  1470.  1471.  1472.  1473.  1474.\n  1476.  1477.  1478.  1479.  1480.  1481.  1482.  1483.  1484.  1485.\n  1486.  1487.  1488.  1489.  1490.  1491.  1492.  1493.  1494.  1495.\n  1496.  1497.  1498.  1499.  1500.  1501.  1502.  1503.  1504.  1505.\n  1506.  1507.  1510.  1511.  1512.  1513.  1514.  1515.  1516.  1517.\n  1518.  1519.  1520.  1521.  1522.  1523.  1524.  1525.  1526.  1527.\n  1528.  1529.  1530.  1531.  1532.  1533.  1534.  1535.  1536.  1537.\n  1538.  1539.  1540.  1541.  1540.  1541.  1542.  1543.  1544.  1545.\n  1546.  1547.  1548.  1549.  1550.  1551.  1552.  1553.  1554.  1555.\n  1556.  1557.  1558.  1559.  1560.  1561.  1562.  1563.  1564.  1565.\n  1566.  1567.  1568.  1569.  1570.  1571.  1574.  1575.  1576.  1577.\n  1578.  1579.  1580.  1581.  1582.  1583.  1584.  1585.  1586.  1587.\n  1588.  1589.  1590.  1591.  1592.  1593.  1594.  1595.  1596.  1597.\n  1598.  1599.  1600.  1601.  1602.  1603.  1604.  1605.  1606.  1607.\n  1608.  1609.  1610.  1611.  1612.  1613.  1614.  1615.  1616.  1617.\n  1618.  1619.  1620.  1621.  1622.  1623.  1624.  1625.  1626.  1627.\n  1628.  1629.  1630.  1631.  1632.  1633.  1634.  1635.  1636.  1637.\n  1638.  1639.  1640.  1641.  1642.  1643.  1644.  1645.  1646.  1647.\n  1648.  1649.  1650.  1651.  1652.  1653.  1654.  1655.  1656.  1657.\n  1658.  1659.  1660.  1661.  1662.  1663.  1664.  1665.  1666.  1667.\n  1668.  1669.  1670.  1671.  1672.  1673.  1674.  1675.  1676.  1677.\n  1678.  1679.  1680.  1681.  1682.  1683.  1684.  1685.  1686.  1687.\n  1688.  1689.  1690.  1691.  1692.  1693.  1694.  1695.  1696.  1697.\n  1698.  1699.  1700.  1701.  1700.  1701.  1702.  1703.  1704.  1705.\n  1706.  1707.  1708.  1709.  1710.  1711.  1712.  1713.  1714.  1715.\n  1716.  1717.  1718.  1719.  1720.  1721.  1722.  1723.  1724.  1725.\n  1726.  1727.  1728.  1729.  1730.  1731.  1734.  1735.  1736.  1737.\n  1738.  1739.  1740.  1741.  1742.  1743.  1744.  1745.  1746.  1747.\n  1748.  1749.  1750.  1751.  1752.  1753.  1754.  1755.  1756.  1757.\n  1758.  1759.  1760.  1761.  1762.  1763.  1764.  1765.  1766.  1767.\n  1768.  1769.  1770.  1771.  1772.  1773.  1774.  1775.  1776.  1777.\n  1778.  1779.  1780.  1781.  1782.  1783.  1784.  1785.  1786.  1787.\n  1788.  1789.  1790.  1791.  1792.  1793.  1794.  1795.  1796.  1797.\n  1798.  1799.  1800.  1801.  1802.  1803.  1804.  1805.  1806.  1807.\n  1808.  1809.  1810.  1811.  1812.  1813.  1814.  1815.  1816.  1817.\n  1818.  1819.  1820.  1821.  1822.  1823.  1824.  1825.  1826.  1827.\n  1828.  1829.  1828.  1829.  1830.  1831.  1832.  1833.  1834.  1835.\n  1836.  1837.  1838.  1839.  1840.  1841.  1842.  1843.  1844.  1845.\n  1846.  1847.  1848.  1849.  1850.  1851.  1852.  1853.  1854.  1855.\n  1856.  1857.  1858.  1859.  1862.  1863.  1864.  1865.  1866.  1867.\n  1868.  1869.  1870.  1871.  1872.  1873.  1874.  1875.  1876.  1877.\n  1878.  1879.  1880.  1881.  1882.  1883.  1884.  1885.  1886.  1887.\n  1888.  1889.  1890.  1891.  1892.  1893.  1895.  1896.  1897.  1898.\n  1899.  1900.  1901.  1902.  1903.  1904.  1905.  1906.  1907.  1908.\n  1909.  1910.  1911.  1912.  1913.  1914.  1915.  1916.  1917.  1918.\n  1919.  1920.  1921.  1922.  1923.  1924.  1925.  1926.  1926.  1927.\n  1928.  1929.  1930.  1931.  1932.  1933.  1934.  1935.  1936.  1937.\n  1938.  1939.  1940.  1941.  1942.  1943.  1944.  1945.  1946.  1947.\n  1948.  1949.  1950.  1951.  1952.  1953.  1954.  1955.  1956.  1957.\n  1958.  1959.  1960.  1961.  1962.  1963.  1964.  1965.  1966.  1967.\n  1968.  1969.  1970.  1971.  1972.  1973.  1974.  1975.  1976.  1977.\n  1978.  1979.  1980.  1981.  1982.  1983.  1984.  1985.  1986.  1987.\n  1988.  1989.  1988.  1989.  1990.  1991.  1992.  1993.  1994.  1995.]\n"
      }
     ],
     "prompt_number": 9
    },
    {
     "cell_type": "markdown",
     "metadata": {},
     "source": "Congrats!  You have successfully modified and executed your first program on the GPU!\n\nBesides just getting our hands dirty compiling and executing code on the GPU, task1 was meant to enforce a fundamental principle.  If you set the number of threads per block to 5 and the number of blocks to 100, you should have noticed the values printed at the end were not from the last block - some randomness started to creep in.  The reason for this is we're executing these blocks & threads on a massively parallel GPU.  So there will be 100's if not 1000's of threads all executing simultaneously with respect to each other.  It's basically a race condition to see which block or threads got to write their values to our array first.\n\nIn a more realistic example, like we'll work on below, we need to ensure there is enough memory allocated to hold the results from all our threads."
    },
    {
     "cell_type": "markdown",
     "metadata": {},
     "source": "### Task #2\n\nFor our second task, we're going to be accelerating the ever popular SAXPY (**S**ingle-precision **A** times **X** **P**lus **Y**) function on the GPU using CUDA.\n\nUnlike Task #1, you are going to have to do some of work yourself!  In this example, the `saxpy` function has already been moved to the GPU, but it expects three arrays, `a`, `b`, and, `c`, to be passed to it.  So we need to handle getting the three arrays to the GPU version of `saxpy`.\n\nIt is important to realize here that the GPU has it's own physical memory, just like the CPU uses system RAM for it's memory.  When executing code on the GPU, we have to ensure any data it needs is first copied across the PCI-Express bus to the GPU's memory before we launch the `saxpy` kernel.  For this task, we will manage the GPU memory with the following API calls (detailed documentation [here](http://docs.continuum.io/numbapro/CUDAJit.html#memory-transfer)).  It should also be noted that CUDA Python makes heavy use of NumPy's N-dimensional array objects.  You do not need an understanding of NumPy to work on this lab, but if you're interested in reading more, you can start [here](http://www.numpy.org/).\n\n* `d_ary = cuda.to_device(ary)` - this API call is used to allocate and copy memory to the GPU.  After it completes successfully, d_ary will point to a copy of the NumPy array data on the GPU.\n* `d_ary = cuda.device_array(number_of_elements)` - this API call creates an empty NumPy array on the GPU of size number_of_elements\n* `d_ary.copy_to_host(ary)` - this API call will copy the data in d_ary which is on the GPU, to the NumPy array on the host\n\nYou may have noticed in Task #1, the NumbaPro compiler was smart enough to handle transferring the `ary` data itself.  For this task, we'll be doing it manually so you are aware of how it's done.\n\nIn the cell below, your objective is to replace the `## FIXME: ... ##` sections of code. Using the above calls, move the data to the GPU before the `saxpy` function is called, as well as copy the resulting `c` array back.  \n\nTo make sure you are getting the correct answer, the program prints out the first 5 and last 5 elements of `c`.  If everything was done correctly, the values should all be **5**.  The cells to compile and execute the program are located below the editor.  If you get stuck, there are a number of hints provided - just click on the green box to see what they are.\n\nFinally, you can click the green solution box below the code to check your work."
    },
    {
     "cell_type": "markdown",
     "metadata": {},
     "source": "<p class=\"hint_trigger\">Hint #1\n      <div class=\"toggle_container\"><div class=\"input_area box-flex1\"><div class=\\\"highlight\\\">To figure out the number_of_blocks, we want to divide the number of elements we're processing, by the number of threads_per_block.</div></div></div></p>"
    },
    {
     "cell_type": "markdown",
     "metadata": {},
     "source": "<p class=\"hint_trigger\">Hint #2\n      <div class=\"toggle_container\"><div class=\"input_area box-flex1\"><div class=\\\"highlight\\\">A kernel running on the GPU (indicated with <code>@cuda.autojit</code>) decorator cannot use host arrays, so make sure you are passing the device arrays into the <code>saxpy</code> function.</div></div></div></p>"
    },
    {
     "cell_type": "code",
     "collapsed": false,
     "input": "from numbapro import cuda\nimport numpy as np\n\n@cuda.autojit\ndef saxpy(a, b, c):\n    # Determine our unique global thread ID, so we know which element to process\n    tid = cuda.blockIdx.x * cuda.blockDim.x + cuda.threadIdx.x;\n    \n    if ( tid < c.size ): # Make sure we don't do more work than we have data!\n        c[tid] = 2 * a[tid] + b[tid];\n\ndef main():\n    N = 2048 * 2048\n\n    # Allocate host memory arrays\n    a = np.empty(N)\n    b = np.empty(N)\n    c = np.empty(N)\n\n    # Initialize host memory\n    a.fill(2)\n    b.fill(1)\n    c.fill(0)\n\n    # Allocate and copy GPU/device memory\n    d_a = cuda.to_device(a)\n    ## FIXME: allocate space for the other vectors ##\n    d_b = cuda.to_device(b)\n    d_c = cuda.to_device(c)\n    \n    threads_per_block = 128\n    number_of_blocks = N / 128 + 1 ## FIXME: given the threads_per_block is set, determine how many blocks we need ##\n\n    saxpy [ number_of_blocks, threads_per_block ] ( d_a, d_b, d_c )\n\n    ## FIXME: copy the vector c from the GPU back to the host ##\n    d_c.copy_to_host(c)\n    # Print out the first and last 5 values of c for a quality check\n    print str(c[0:5])\n    print str(c[-5:])\n    \nmain() # Execute the program",
     "language": "python",
     "metadata": {},
     "outputs": [
      {
       "output_type": "stream",
       "stream": "stdout",
       "text": "[ 5.  5.  5.  5.  5.]\n[ 5.  5.  5.  5.  5.]\n"
      }
     ],
     "prompt_number": 10
    },
    {
     "cell_type": "markdown",
     "metadata": {},
     "source": "<p class=\"hint_trigger\">Click to check your solution\n      <div class=\"toggle_container\"><div class=\"input_area box-flex1\"><div class=\\\"highlight\\\"><pre>from numbapro import cuda\nimport numpy as np\n\n@cuda.autojit\ndef saxpy(a, b, c):\n    # Determine our unique global thread ID, so we know which element to process\n    tid = cuda.blockIdx.x &#42; cuda.blockDim.x + cuda.threadIdx.x;\n    \n    if ( tid &lt; c.size ): # Make sure we don't do more work than we have data!\n        c[tid] = 2 &#42; a[tid] + b[tid];\n\ndef main():\n    N = 2048 * 2048\n\n    # Allocate host memory arrays\n    a = np.empty(N)\n    b = np.empty(N)\n    c = np.empty(N)\n\n    # Initialize host memory\n    a.fill(2)\n    b.fill(1)\n    c.fill(0)\n\n    # Allocate and copy GPU/device memory\n    d_a = cuda.to_device(a)\n    d_b = cuda.to_device(b)\n    d_c = cuda.to_device(c)\n\n    threads_per_block = 128\n    number_of_blocks = N / 128 + 1\n\n    saxpy [ number_of_blocks, threads_per_block ] ( d_a, d_b, d_c )\n\n    d_c.copy_to_host(c)\n\n    # Print out the first and last 5 values of c for a quality check\n    print c[:5]\n    print c[-5:]\n    \nmain() # Execute the program</pre></div></div></div></p>"
    },
    {
     "cell_type": "markdown",
     "metadata": {},
     "source": "The output of your program should be all 5's.  If you got this, you have successfully done the following:\n\n1. Allocated space in GPU memory\n2. Copied data from the CPU to the GPU\n3. Launched the `saxpy` function on the GPU\n4. Copied the resulting data back to the CPU\n\nIf you are still not able to get the correct output, please have a look at the solution hidden in the green box above and see if you can figure out what you were missing!"
    },
    {
     "cell_type": "markdown",
     "metadata": {},
     "source": "### Task #3\n\nYour final task in this lab will be to accelerate a basic matrix multiplication function on the GPU.  In this simplified example, we'll assume our matrices are all square - they have the same number of rows and columns.\n\nIn this task, all the data movement has already been completed for you.  Your goal is to modify the `matrixMulGPU` function with CUDA so it will run on the GPU.  However, there is a new twist!  Instead of just using one-dimensional blocks of threads and blocks, we'll be using two dimensions; x and y.  In the `main` function of Task #3, these are set with the following:\n\n    threads_per_block = (16, 16) # A 16 x 16 block threads\n    number_of_blocks = ((N / threads_per_block[0]) + 1, (N / threads_per_block[1]) + 1)\n    \nSo, in addition to using `cuda.blockIdx.x`, `cuda.blockDim.x`, and `cuda.threadIdx.x`, you'll also need to use <code>cuda.blockIdx.<span style=\"color:orange\">**y**</span></code>, <code>cuda.blockDim.<span style=\"color:orange\">**y**</span></code>, and <code>cuda.threadIdx.<span style=\"color:orange\">**y**</span></code>. As usual, please make use of the hints provided if you get stuck, and you can always check the green box below the code to see the answer.\n\n**Note**: do not modify the CPU version `matrixMulCPU`.  This is used to verify the results of the GPU version."
    },
    {
     "cell_type": "markdown",
     "metadata": {},
     "source": "<p class=\"hint_trigger\">Hint #1\n      <div class=\"toggle_container\"><div class=\"input_area box-flex1\"><div class=\\\"highlight\\\">You only need to modify the `matrixMulGPU` function.  No other code needs to be modified for this task.</div></div></div></p>"
    },
    {
     "cell_type": "markdown",
     "metadata": {},
     "source": "<p class=\"hint_trigger\">Hint #2\n      <div class=\"toggle_container\"><div class=\"input_area box-flex1\"><div class=\\\"highlight\\\">You'll be using a single thread to calculate one element of the output matrix `c`.  Each thread will execute the inner-most loop of the matrix multiplication formula.</div></div></div></p>"
    },
    {
     "cell_type": "markdown",
     "metadata": {},
     "source": "<p class=\"hint_trigger\">Hint #3\n      <div class=\"toggle_container\"><div class=\"input_area box-flex1\"><div class=\\\"highlight\\\">The `row` value should be set to `cuda.blockIdx.x * cuda.blockDim.x + cuda.threadIdx.x` to get the thread which is calculating the row part of the `c` matrix.  Can you figure out what the `col` value should be set to?</div></div></div></p>"
    },
    {
     "cell_type": "markdown",
     "metadata": {},
     "source": "<p class=\"hint_trigger\">Hint #4\n      <div class=\"toggle_container\"><div class=\"input_area box-flex1\"><div class=\\\"highlight\\\">Don't forget the `@cuda.autojit` function decorator to tell the compiler that `matrixMulGPU` is now a GPU function!</div></div></div></p>"
    },
    {
     "cell_type": "markdown",
     "metadata": {},
     "source": "<p class=\"hint_trigger\">Hint #5\n      <div class=\"toggle_container\"><div class=\"input_area box-flex1\"><div class=\\\"highlight\\\">Just like the CPU version, we need to make sure we do not do more work than we have data.  In this example, the `main` function is actually launching `matrixMulGPU` with more blocks of threads than we have data.  Make sure you're doing a check in your modified code so that `row` **and** `col` are less than N.</div></div></div></p>"
    },
    {
     "cell_type": "code",
     "collapsed": false,
     "input": "from numbapro import cuda\nimport numpy as np\n\nN = 64\n\n## FIXME: what goes here? ##\n@cuda.autojit\ndef matrixMulGPU( a, b, c ):\n    val = 0\n\n    row = cuda.blockIdx.x * cuda.blockDim.x + cuda.threadIdx.x ## FIXME: what should row be? ##\n    col = cuda.blockIdx.y * cuda.blockDim.y + cuda.threadIdx.y ## FIXME: what should row be? ##\n\n    if (row < N and col < N):## FIXME: What do we need to check for here? ##:\n        for k in range(N):\n            val += a[row,k] * b[k,col]\n        c[row,col] = val\n\n# Don't modify this function\ndef matrixMulCPU( a, b, c ):\n    for row in range(N):\n        for col in range(N):\n            val = 0\n            for k in range(N):\n                val += a[row,k] * b[k,col]\n            c[row,col] = val\n\ndef main():\n    # Allocate host memory\n    a = np.empty([N,N], dtype=np.float32)\n    b = np.empty_like(a)\n    c_cpu = np.empty_like(a)\n    c_gpu = np.empty_like(a)\n\n    # Initialize host memory\n    for row in range(N):\n        for col in range(N):\n            a[row,col] = row\n            b[row,col] = col+2\n            c_cpu[row,col] = 0\n            c_gpu[row,col] = 0\n\n    # Allocate and initialize GPU/device memory\n    d_a = cuda.to_device(a)\n    d_b = cuda.to_device(b)\n    d_c = cuda.to_device(c_gpu) # since we're overwriting c on the GPU in \n                                # the matrixMul kernel, no need to copy data over  \n\n    threads_per_block = (16, 16) # A 16 x 16 block threads\n    number_of_blocks = ((N / threads_per_block[0]) + 1, (N / threads_per_block[1]) + 1)\n\n    matrixMulGPU [ number_of_blocks, threads_per_block ] ( d_a, d_b, d_c )\n\n    d_c.copy_to_host(c_gpu)\n\n    # Call the CPU version to check our work\n    matrixMulCPU( a, b, c_cpu )\n\n    # Compare the two answers to make sure they are equal\n    error = False\n    for row in range(N):\n        if error:\n            break\n        for col in range(N):\n            if error:\n                break\n            if c_cpu[row,col] != c_gpu[row,col]:\n                print \"FOUND ERROR at c[\" + str(row) + \",\" + str(col) + \"]\"\n                error = True\n\n    if not error:\n        print \"Success!\"\n        \nmain() # Run the program",
     "language": "python",
     "metadata": {},
     "outputs": [
      {
       "output_type": "stream",
       "stream": "stdout",
       "text": "Success!\n"
      }
     ],
     "prompt_number": 11
    },
    {
     "cell_type": "markdown",
     "metadata": {},
     "source": "<p class=\"hint_trigger\">Click to check your solution\n      <div class=\"toggle_container\"><div class=\"input_area box-flex1\"><div class=\\\"highlight\\\"><pre>from numbapro import cuda\nimport numpy as np\n\nN = 64\n\n@cuda.autojit\ndef matrixMulGPU( a, b, c ):\n    val = 0\n\n    row = cuda.blockIdx.x &#42; cuda.blockDim.x + cuda.threadIdx.x\n    col = cuda.blockIdx.y &#42; cuda.blockDim.y + cuda.threadIdx.y\n\n    if (row &lt; N and col &lt; N):\n        for k in range(N):\n            val += a[row,k] &#42; b[k,col]\n        c[row,col] = val\n\ndef matrixMulCPU( a, b, c ):\n    for row in range(N):\n        for col in range(N):\n            val = 0\n            for k in range(N):\n                val += a[row,k] &#42; b[k,col]\n            c[row,col] = val\n\ndef main():\n    # Allocate host memory\n    a = np.empty([N,N], dtype=np.float32)\n    b = np.empty_like(a)\n    c_cpu = np.empty_like(a)\n    c_gpu = np.empty_like(a)\n\n    # Initialize host memory\n    for row in range(N):\n        for col in range(N):\n            a[row,col] = row\n            b[row,col] = col+2\n            c_cpu[row,col] = 0\n            c_gpu[row,col] = 0\n\n    # Allocate and initialize GPU/device memory\n    d_a = cuda.to_device(a)\n    d_b = cuda.to_device(b)\n    d_c = cuda.to_device(c_gpu) # since we're overwriting c on the GPU in \n                                # the matrixMul kernel, no need to copy data over  \n\n    threads_per_block = (16, 16) # A 16 x 16 block threads\n    number_of_blocks = ((N / threads_per_block[0]) + 1, (N / threads_per_block[1]) + 1)\n\n    matrixMulGPU [ number_of_blocks, threads_per_block ] ( d_a, d_b, d_c )\n\n    d_c.copy_to_host(c_gpu)\n\n    # Call the CPU version to check our work\n    matrixMulCPU( a, b, c_cpu )\n\n    # Compare the two answers to make sure they are equal\n    error = False\n    for row in range(N):\n        if error:\n            break\n        for col in range(N):\n            if error:\n                break\n            if c_cpu[row,col] != c_gpu[row,col]:\n                print \"FOUND ERROR at c[\" + str(row) + \",\" + str(col) + \"]\"\n                error = True\n\n    if not error:\n        print \"Success!\"\n        \nmain() # Run the program</pre></div></div></div></p>"
    },
    {
     "cell_type": "markdown",
     "metadata": {},
     "source": "If you get Task #3 to run without any errors, you have successfully taken a serial function and moved it to a massively parallel version on the GPU!"
    },
    {
     "cell_type": "markdown",
     "metadata": {},
     "source": "## Learn More\n\nIf you are interested in learning more, you can use the following resources:\n\n* Learn more at the [CUDA Developer Zone](https://developer.nvidia.com/category/zone/cuda-zone).\n* Install [Anaconda Accelerate](https://store.continuum.io/cshop/accelerate/) from Continuum Analytics.  You can also watch the [CUDACast](http://www.youtube.com/watch?v=jKV1m8APttU) on this process.\n* Take the fantastic online and **free** Udacity [Intro to Parallel Programming](https://www.udacity.com/course/cs344) course which uses CUDA C.\n* Search or ask questions on [Stackoverflow](http://stackoverflow.com/questions/tagged/cuda) using the cuda tag"
    },
    {
     "cell_type": "markdown",
     "metadata": {},
     "source": "<a id=\"post-lab\"></a>\n## Post-Lab\n\nFinally, don't forget to save your work from this lab before time runs out and the instance shuts down!!\n\n1. Save this IPython Notebook by going to `File -> Download as -> IPython (.ipynb)` at the top of this window"
    },
    {
     "cell_type": "markdown",
     "metadata": {},
     "source": "<a id=\"FAQ\"></a>\n---\n# Lab FAQ\n\nQ: I'm encountering issues executing the cells, or other technical problems?<br>\nA: Please see [this](https://developer.nvidia.com/self-paced-labs-faq#Troubleshooting) infrastructure FAQ."
    },
    {
     "cell_type": "markdown",
     "metadata": {},
     "source": "<style>\np.hint_trigger{\n  margin-bottom:7px;\n  margin-top:-5px;\n  background:#64E84D;\n}\n.toggle_container{\n  margin-bottom:0px;\n}\n.toggle_container p{\n  margin:2px;\n}\n.toggle_container{\n  background:#f0f0f0;\n  clear: both;\n  font-size:100%;\n}\n</style>\n<script>\n$(\"p.hint_trigger\").click(function(){\n   $(this).toggleClass(\"active\").next().slideToggle(\"normal\");\n});\n   \n$(\".toggle_container\").hide();\n</script>"
    }
   ],
   "metadata": {}
  }
 ]
}