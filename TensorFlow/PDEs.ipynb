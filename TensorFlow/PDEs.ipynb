{
 "cells": [
  {
   "cell_type": "markdown",
   "metadata": {},
   "source": [
    "Tutorial found here:  \n",
    "https://www.tensorflow.org/tutorials/pdes"
   ]
  },
  {
   "cell_type": "code",
   "execution_count": 1,
   "metadata": {
    "collapsed": true
   },
   "outputs": [],
   "source": [
    "import tensorflow as tf\n",
    "import numpy as np"
   ]
  },
  {
   "cell_type": "code",
   "execution_count": 3,
   "metadata": {
    "collapsed": false
   },
   "outputs": [],
   "source": [
    "import PIL.Image\n",
    "from io import BytesIO\n",
    "from IPython.display import clear_output, Image, display"
   ]
  },
  {
   "cell_type": "code",
   "execution_count": 10,
   "metadata": {
    "collapsed": true
   },
   "outputs": [],
   "source": [
    "# Set numpy random seed so results are reproducible\n",
    "np.random.seed(1)"
   ]
  },
  {
   "cell_type": "code",
   "execution_count": 4,
   "metadata": {
    "collapsed": true
   },
   "outputs": [],
   "source": [
    "def DisplayArray(a, fmt='jpeg', rng=[0,1]):\n",
    "    # Display an array as picture\n",
    "    a = (a - rng[0])/float(rng[1] - rng[0])*255\n",
    "    a = np.uint8(np.clip(a, 0, 255))\n",
    "    f = BytesIO()\n",
    "    PIL.Image.fromarray(a).save(f, fmt)\n",
    "    clear_output(wait = True)\n",
    "    display(Image(data=f.getvalue()))"
   ]
  },
  {
   "cell_type": "code",
   "execution_count": 5,
   "metadata": {
    "collapsed": true
   },
   "outputs": [],
   "source": [
    "sess = tf.InteractiveSession()"
   ]
  },
  {
   "cell_type": "code",
   "execution_count": 11,
   "metadata": {
    "collapsed": true
   },
   "outputs": [],
   "source": [
    "tf.set_random_seed(1)"
   ]
  },
  {
   "cell_type": "code",
   "execution_count": 14,
   "metadata": {
    "collapsed": true
   },
   "outputs": [],
   "source": [
    "def make_kernel(a):\n",
    "    # Transform a 2D array into a convolutional kernel\n",
    "    a = np.asarray(a)\n",
    "    a = a.reshape(list(a.shape) + [1,1])\n",
    "    return tf.constant(a, dtype=1)\n",
    "\n",
    "def simple_conv(x, k):\n",
    "    # Simplified 2D convolutional op\n",
    "    x = tf.expand_dims(tf.expand_dims(x, 0), -1)\n",
    "    y = tf.nn.depthwise_conv2d(x, k, [1,1,1,1], padding='SAME')\n",
    "    return y[0, :, :, 0]\n",
    "\n",
    "def laplace(x):\n",
    "    # Compute the 2D laplacian of an array\n",
    "    laplace_k = make_kernel([[0.5, 1.0, 0.5],\n",
    "                        [1.0, -6., 1.0],\n",
    "                        [0.5, 1.0, 0.5]])\n",
    "    return simple_conv(x, laplace_k)"
   ]
  },
  {
   "cell_type": "code",
   "execution_count": 15,
   "metadata": {
    "collapsed": true
   },
   "outputs": [],
   "source": [
    "N = 500"
   ]
  },
  {
   "cell_type": "code",
   "execution_count": 16,
   "metadata": {
    "collapsed": true
   },
   "outputs": [],
   "source": [
    "# Initial conditions - some rain hits a pond\n",
    "# Set everything to zero\n",
    "u_init  = np.zeros([N,N], dtype=np.float32)\n",
    "ut_init = np.zeros([N,N], dtype=np.float32)"
   ]
  },
  {
   "cell_type": "code",
   "execution_count": 17,
   "metadata": {
    "collapsed": false
   },
   "outputs": [
    {
     "data": {
      "image/jpeg": "[encoded data removed]",
      "text/plain": [
       "<IPython.core.display.Image object>"
      ]
     },
     "metadata": {},
     "output_type": "display_data"
    }
   ],
   "source": [
    "# Rain drops hit poind at random points\n",
    "for n in range(40):\n",
    "    a, b = np.random.randint(0, N, 2)\n",
    "    u_init[a,b] = np.random.uniform()\n",
    "\n",
    "DisplayArray(u_init, rng=[-0.1,0.1])"
   ]
  },
  {
   "cell_type": "code",
   "execution_count": 18,
   "metadata": {
    "collapsed": false
   },
   "outputs": [],
   "source": [
    "# Parameters\n",
    "# eps -- time resolution\n",
    "# damping -- wave damping\n",
    "eps = tf.placeholder(tf.float32, shape=())\n",
    "damping = tf.placeholder(tf.float32, shape=())\n",
    "\n",
    "# Create var for simulation state\n",
    "U = tf.Variable(u_init)\n",
    "Ut = tf.Variable(ut_init)\n",
    "\n",
    "# Discretized PDE update rules\n",
    "U_ = U + eps * Ut\n",
    "Ut_ = Ut + eps * (laplace(U) - damping * Ut)\n",
    "\n",
    "# Operation to update the state\n",
    "step = tf.group(U.assign(U_), Ut.assign(Ut_))"
   ]
  },
  {
   "cell_type": "code",
   "execution_count": 19,
   "metadata": {
    "collapsed": false
   },
   "outputs": [
    {
     "data": {
      "image/jpeg": "[encoded data removed]",
      "text/plain": [
       "<IPython.core.display.Image object>"
      ]
     },
     "metadata": {},
     "output_type": "display_data"
    }
   ],
   "source": [
    "# Init state to initial conditions\n",
    "tf.initialize_all_variables().run()\n",
    "\n",
    "# Run 10000 steps of PDE\n",
    "for i in range(1000):\n",
    "    # Step simulation\n",
    "    step.run({eps:0.03, damping:0.04})\n",
    "    DisplayArray(U.eval(), rng=[-0.1,0.1])"
   ]
  }
 ],
 "metadata": {
  "kernelspec": {
   "display_name": "Python [conda root]",
   "language": "python",
   "name": "conda-root-py"
  },
  "language_info": {
   "codemirror_mode": {
    "name": "ipython",
    "version": 2
   },
   "file_extension": ".py",
   "mimetype": "text/x-python",
   "name": "python",
   "nbconvert_exporter": "python",
   "pygments_lexer": "ipython2",
   "version": "2.7.13"
  }
 },
 "nbformat": 4,
 "nbformat_minor": 2
}
